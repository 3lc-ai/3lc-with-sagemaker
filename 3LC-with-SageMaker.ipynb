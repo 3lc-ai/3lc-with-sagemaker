{
 "cells": [
  {
   "cell_type": "markdown",
   "id": "81fd7cb8-f75a-430b-9661-ef9b3f8976b8",
   "metadata": {},
   "source": [
    "# Using 3LC with AWS Sagemaker Studio\n",
    "\n",
    "This notebook demonstrates how to use [3LC](https://3lc.ai) with AWS SageMaker in order to inspect, understand, and refine your training data.\n",
    "Since 3LC needs to run its Object Service on your SageMaker instance, this guide also assumes that you have an [Ngrok](https://ngrok.com) account, allowing for your browser to access this service.\n",
    "\n",
    "## Prerequisites\n",
    "\n",
    "In order to follow this guide, you should already have the following:\n",
    "\n",
    "- An NGrok token, referred to as `NGROK_TOKEN`. You can find this in the [Ngrok Dashboard](https://dashboard.ngrok.com/get-started/your-authtoken).\n",
    "\n",
    "**These tokens need to be entered into the cell below in order for this notebook to work!**\n",
    "\n",
    "**Be aware that these keys are private and should not be shared.**"
   ]
  },
  {
   "cell_type": "code",
   "execution_count": null,
   "id": "4f6cf1c3-b6eb-4045-8f91-eaa5364dcf3f",
   "metadata": {
    "tags": []
   },
   "outputs": [],
   "source": [
    "# This cell will not evaluate before keys are added.\n",
    "NGROK_TOKEN = "
   ]
  },
  {
   "cell_type": "markdown",
   "id": "1f98814c-6afe-40c9-9fa3-bd1cf5964260",
   "metadata": {},
   "source": [
    "## Installing the 3LC Package\n",
    "1. **Execute the Installation Command**: In the cell below, we will use the ! operator to execute a shell command within the SageMaker notebook. This command utilizes pip to install additional packages required by the 3LC service into your SageMaker environment. Please evaluate the cell as it is. \n",
    "\n",
    "2. **Installation Time**: Be prepared for the installation process to download and install a significant number of packages. This process may take several minutes, depending on the speed of your internet connection and the SageMakers server's response time.\n",
    "\n",
    "3. **Launcher script**: The cell below will write a launcher script which includes the API token from above.\n",
    "### Restart the Session\n",
    "\n",
    "- **Monitor for Session Restart Requirement**: The installation might update versions of Python packages that were previously installed in your SageMaker environment. After the installation completes, if you see a \"Restart Session\" button at the bottom of the output window, it indicates that these updates require a session restart to take effect.\n",
    "\n",
    "- **How to Restart**: Click the \"Kernel->Restart Kernel\" on the menu bar. This action will refresh the SageMaker environment, incorporating the updates made by the package installation.\n"
   ]
  },
  {
   "cell_type": "code",
   "execution_count": null,
   "id": "8e111ccc-5216-48b2-8a42-14d9cf04302d",
   "metadata": {
    "tags": []
   },
   "outputs": [],
   "source": [
    "# Install 3LC\n",
    "!pip install 3lc[pacmap,pyngrok] --quiet\n",
    "\n",
    "# Create launcher script\n",
    "\n",
    "import os\n",
    "launcher_script = f\"\"\"\n",
    "#!/bin/sh\n",
    "export NGROK_TOKEN={NGROK_TOKEN}\n",
    "3lc service --ngrok --no-tui\n",
    "\"\"\"\n",
    "\n",
    "filename = 'launch_3lc.sh'\n",
    "\n",
    "# Using 'with' automatically takes care of file closing\n",
    "with open(filename, \"w\") as file:\n",
    "    file.write(launcher_script)\n",
    "    launcher_script_path = os.path.abspath(filename)\n",
    "    print(f\"File written to {launcher_script_path}\")\n",
    "\n",
    "# Set the executable bit for the script\n",
    "os.chmod(filename, os.stat(filename).st_mode | os.X_OK)"
   ]
  },
  {
   "cell_type": "markdown",
   "id": "a89afd96-f6ad-4289-a3a2-1bc8bee142d4",
   "metadata": {},
   "source": [
    "## Launch the 3LC Object Service\n",
    "\n",
    "To launch the 3LC object service from Sagemaker, we'll utilize the terminal, which is accessible in the following way:\n",
    "\n",
    "1. **Access the Terminal** : Go to **\"File->New->Terminal\"** in the top menu bar. This will reveal a terminal window on the right side of your screen.\n",
    "\n",
    "2. **Execute the Launch Command**: In the terminal window that appears, launch the script that was created above, e.g.\n",
    "\n",
    "```\n",
    "sh launch_3lc.sh\n",
    "```\n",
    "This path is valid if you have just opened a terminal and you are in your home directory. Please adjust accordingly if you have changed directory.\n",
    "\n",
    "3. **Identify the Dashboard URL**: After running the command, the output should be akin to this:\n",
    "\n",
    "```\n",
    "3LC Object Service - Version: 2.3.70, PID: 15820 (Use Ctrl-C to exit.)\n",
    "Platform: Linux #1 SMP Sat Mar 23 09:49:55 UTC 2024 (x86_64), Python: 3.9.16\n",
    "Object Service URL:\n",
    "└── http://127.0.0.1:5015\n",
    "Dashboard URL:\n",
    "└── https://dashboard.3lc.ai?object_service=https%3A%2F%2F89d8-34-106-148-80.ngrok-free.app\n",
    "```\n",
    "\n",
    "This bottommost URL points to the Dashboard, which is instrumental for accessing the 3LC Object Service. \n",
    "\n",
    "4. **Access the Service**: Copy the URL provided in the output and paste it into your web browser's address bar.\n",
    "  1. If you are on a free NGrok account, you will first get a disclaimer page from NGrok which you have to click through.\n",
    "  2. Visting this site will take you to the 3LC Object Service hosted on SageMaker, where you can explore some example data. Remember, the URL is session-specific and will change with each new SageMaker session.\n",
    "\n",
    "5. **Stop the Object Service**: The 3LC Object Service can be stopped by pressing `Ctrl-C` in the terminal window.\n"
   ]
  },
  {
   "cell_type": "markdown",
   "id": "3072ff57-3805-4873-bd7b-3f2314260b3b",
   "metadata": {
    "tags": []
   },
   "source": [
    "## Using 3LC with your own Notebooks\n",
    "\n",
    "After 3LC has been installed, the following steps are needed to integrate 3LC into your own notebook.\n",
    "\n",
    "1. **Install 3LC**: Refer to the [Installing 3LC Package](#Installing-the-3LC-Package) section for detailed instructions on how to install the 3LC package in your notebook environment. Ensure you follow each step carefully to successfully install the package.\n",
    "\n",
    "2. **Launch the 3LC Service**: After installation, you need to start the 3LC service to enable its functionality within your notebook. Open your terminal and execute the `./launch_3lc.sh` script. This script initializes the 3LC service, making it ready for use with your notebooks.\n",
    "\n",
    "3. **Import the tlc package**: You should now be able to `import tlc` in your notebook. See the [3LC Docs](https://docs.3lc.ai) for more details on how to integrate 3LC in your own notebooks.\n"
   ]
  }
 ],
 "metadata": {
  "kernelspec": {
   "display_name": "default:Python",
   "language": "python",
   "name": "conda-env-default-py"
  },
  "language_info": {
   "codemirror_mode": {
    "name": "ipython",
    "version": 3
   },
   "file_extension": ".py",
   "mimetype": "text/x-python",
   "name": "python",
   "nbconvert_exporter": "python",
   "pygments_lexer": "ipython3",
   "version": "3.9.16"
  }
 },
 "nbformat": 4,
 "nbformat_minor": 5
}
